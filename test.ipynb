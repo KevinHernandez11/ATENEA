{
 "cells": [
  {
   "cell_type": "code",
   "execution_count": 1,
   "metadata": {},
   "outputs": [
    {
     "name": "stdout",
     "output_type": "stream",
     "text": [
      "El archivo 'archivo_ejemplo.txt' se ha creado exitosamente.\n"
     ]
    }
   ],
   "source": [
    "# Texto que deseas guardar\n",
    "texto = \"¡Hola! Este es un ejemplo de cómo guardar texto en un archivo .txt usando Python.\"\n",
    "\n",
    "# Nombre del archivo\n",
    "nombre_archivo = \"archivo_ejemplo.txt\"\n",
    "\n",
    "# Abrir el archivo en modo escritura y guardar el texto\n",
    "with open(nombre_archivo, \"w\", encoding=\"utf-8\") as archivo:\n",
    "    archivo.write(texto)\n",
    "\n",
    "print(f\"El archivo '{nombre_archivo}' se ha creado exitosamente.\")\n"
   ]
  }
 ],
 "metadata": {
  "kernelspec": {
   "display_name": "Python 3",
   "language": "python",
   "name": "python3"
  },
  "language_info": {
   "codemirror_mode": {
    "name": "ipython",
    "version": 3
   },
   "file_extension": ".py",
   "mimetype": "text/x-python",
   "name": "python",
   "nbconvert_exporter": "python",
   "pygments_lexer": "ipython3",
   "version": "3.13.3"
  }
 },
 "nbformat": 4,
 "nbformat_minor": 2
}
